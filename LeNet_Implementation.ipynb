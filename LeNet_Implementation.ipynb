{
  "nbformat": 4,
  "nbformat_minor": 0,
  "metadata": {
    "colab": {
      "provenance": [],
      "gpuType": "T4"
    },
    "kernelspec": {
      "name": "python3",
      "display_name": "Python 3"
    },
    "language_info": {
      "name": "python"
    },
    "accelerator": "GPU"
  },
  "cells": [
    {
      "cell_type": "code",
      "execution_count": 45,
      "metadata": {
        "id": "SNsIM7Xn5Apu"
      },
      "outputs": [],
      "source": [
        "import torch\n",
        "import torch.nn as nn\n",
        "import torchvision\n",
        "import torchvision.transforms as transforms\n",
        "import matplotlib.pyplot as plt\n",
        "import numpy as np\n",
        "import warnings\n",
        "from torchsummary import summary\n",
        "warnings.filterwarnings('ignore')\n",
        "\n",
        "# Device will determine whether to run the training on GPU or CPU\n",
        "device = torch.device('cuda' if torch.cuda.is_available() else 'cpu')\n"
      ]
    },
    {
      "cell_type": "code",
      "source": [
        "# first we built the architecture of LeNet5\n",
        "\n",
        "# This convolution architecture was built majorly for classification of hand written digits MNIST dataset\n",
        "# thus this model takes 32x32 gray scale input with single channel\n",
        "# In LeNet5: 5 symbolizes the number of layers used i.e. 2 CONVOLUTION+MAXPOOL + 3 FULLY CONNECTED layers\n",
        "# subsampling and increasing number of channels takes place as\n",
        "# 32x32 -> 6 filters of 5x5 -> 28x28x5 -> 2x2 maxpool s=2 -> 14x14x5 -> 16 filters of 5x5 -> 10x10x16 -> 2x2 maxpool -> 5x5x16 ->flattens 400x1 -> 120x1 FC -> 84x1 FC -> 10\n",
        "# image representation in pytorch tensor is Channel x Height x Width"
      ],
      "metadata": {
        "id": "H95_pX7D6Z66"
      },
      "execution_count": 46,
      "outputs": []
    },
    {
      "cell_type": "code",
      "source": [
        "from google.colab import drive\n",
        "drive.mount('/content/drive')"
      ],
      "metadata": {
        "colab": {
          "base_uri": "https://localhost:8080/"
        },
        "id": "e5XY796SDKlk",
        "outputId": "93517bc8-e013-4c3a-f51c-52074ac8a046"
      },
      "execution_count": 47,
      "outputs": [
        {
          "output_type": "stream",
          "name": "stdout",
          "text": [
            "Drive already mounted at /content/drive; to attempt to forcibly remount, call drive.mount(\"/content/drive\", force_remount=True).\n"
          ]
        }
      ]
    },
    {
      "cell_type": "code",
      "source": [
        "batch_size = 64\n",
        "num_classes = 10\n"
      ],
      "metadata": {
        "id": "YhY6Jokb79Jv"
      },
      "execution_count": 48,
      "outputs": []
    },
    {
      "cell_type": "code",
      "source": [
        "# Building the architecture using nn.Module class\n",
        "\n",
        "class LeNet5(nn.Module):\n",
        "  # defining the initializer function with self and num_classes\n",
        "  def __init__(self, num_classes):\n",
        "    super(LeNet5, self).__init__() # inheritance\n",
        "    # buiding 1st of the 5 layer architecture\n",
        "    self.layer1 = nn.Sequential(\n",
        "        nn.Conv2d( in_channels = 1, out_channels = 6 , kernel_size = (5,5), stride=(1,1), padding=(0,0)), # layer1\n",
        "        nn.BatchNorm2d(6), # batchnorm for every channel\n",
        "        nn.ReLU(),\n",
        "        nn.MaxPool2d(kernel_size = (2,2), stride = (2,2))\n",
        "    )\n",
        "\n",
        "    self.layer2 = nn.Sequential(\n",
        "        nn.Conv2d( in_channels = 6, out_channels = 16 , kernel_size = (5,5), stride = (1,1), padding = (0,0)), #layer2\n",
        "        nn.BatchNorm2d(16), # batchnorm for every channel\n",
        "        nn.ReLU(),\n",
        "        nn.MaxPool2d(kernel_size = (2,2), stride = (2,2))\n",
        "    )\n",
        "\n",
        "    self.fc1  = nn.Linear( 400, 120)\n",
        "    self.relu1 = nn.ReLU()\n",
        "    self.fc2 = nn.Linear(120, 84)\n",
        "    self.relu2 = nn.ReLU()\n",
        "    self.fc3 = nn.Linear(84, num_classes)\n",
        "\n",
        "  def forward(self, x):\n",
        "    output = self.layer1(x)\n",
        "    output = self.layer2(output) # it dimension is 64 x 16 x 5 x 5 where 32 is the number of  examples in batches i.e. batch_size\n",
        "    # print(\"output after layer2 \", output.size())\n",
        "    output = output.reshape(output.size(0), -1) # reshapeing keeping the first dimenions intact and the rest -1 collapse i.e. 16x5x5 to 400\n",
        "    output = self.fc1(output)\n",
        "    output = self.relu1(output)\n",
        "    output = self.fc2(output)\n",
        "    output = self.relu2(output)\n",
        "    output = self.fc3(output)\n",
        "    return output\n",
        "\n",
        "# no softmax output\n"
      ],
      "metadata": {
        "id": "w30Bzd2b8EOP"
      },
      "execution_count": 49,
      "outputs": []
    },
    {
      "cell_type": "markdown",
      "source": [
        "Loading the Dataset\n",
        "\n",
        "Using torchvision, we will load the dataset as this will allow us to perform pre-processing steps easily\n",
        "The images are greyscale, all the size of 28x28 and is composed of 60k training images and 10k testing images\n"
      ],
      "metadata": {
        "id": "6zZywgU1CiES"
      }
    },
    {
      "cell_type": "code",
      "source": [
        "\"\"\"\n",
        "keeping num_classes at 10, as this will be the output shape from the final laer of the LeNet5 Neural Network Model, because the output layer will have 10 output neurons, since the MNIST data\n",
        "has 10 classes for each of the 10 numerical digits\n",
        "\"\"\"\n",
        "root_input_dataset_dir =  \"/content/drive/My Drive/input_dataset\"\n",
        "train_dataset = torchvision.datasets.MNIST(root =root_input_dataset_dir, train =True, transform = transforms.Compose([\n",
        "                                                                                                transforms.Resize((32,32)),\n",
        "                                                                                                transforms.ToTensor(),\n",
        "                                                                                                transforms.Normalize(mean = (0.1307 ,), std = (0.3081,))]), download = True)\n",
        "\n",
        "test_dataset = torchvision.datasets.MNIST(root = root_input_dataset_dir, train = False, transform = transforms.Compose([\n",
        "                                                                                                transforms.Resize((32,32)),\n",
        "                                                                                                transforms.ToTensor(),\n",
        "                                                                                                transforms.Normalize(mean = (0.1307,), std = (0.3081,)) ]), download= True)\n",
        " # to wrap iterator around the data to get large dataset to train without loading all of them at once in memory\n",
        "train_dataloader = torch.utils.data.DataLoader(dataset= train_dataset, batch_size = batch_size , shuffle =True) # to wrap iterator around the data to get large dataset to train without loading all of them at once in memory\n",
        "test_dataloader = torch.utils.data.DataLoader(dataset= test_dataset, batch_size = batch_size, shuffle = True)\n",
        "\n"
      ],
      "metadata": {
        "id": "VEgFwRKwBGQe"
      },
      "execution_count": 50,
      "outputs": []
    },
    {
      "cell_type": "code",
      "source": [
        "learning_rate = 0.001\n",
        "\n",
        "model = LeNet5(num_classes).to(device)\n",
        "\n",
        "criterion = nn.CrossEntropyLoss()\n",
        "optimizer = torch.optim.Adam(model.parameters(), lr = learning_rate)\n",
        "\n",
        "total_step = len(train_dataloader)\n",
        "\n"
      ],
      "metadata": {
        "id": "R636U4GaCht8"
      },
      "execution_count": 51,
      "outputs": []
    },
    {
      "cell_type": "code",
      "source": [
        "print('Length of the train dataloader ', len(train_dataloader))\n",
        "print('Length of the test dataloader ', len(test_dataloader))"
      ],
      "metadata": {
        "colab": {
          "base_uri": "https://localhost:8080/"
        },
        "id": "0cYu1ERPIdhY",
        "outputId": "c5f12852-c077-4f14-8a22-2a6770cfad4d"
      },
      "execution_count": 52,
      "outputs": [
        {
          "output_type": "stream",
          "name": "stdout",
          "text": [
            "Length of the train dataloader  938\n",
            "Length of the test dataloader  157\n"
          ]
        }
      ]
    },
    {
      "cell_type": "code",
      "source": [
        "def train( model, criterion, optimizer , num_epochs =100):\n",
        "  total_training_loss= []\n",
        "  total_step = len(train_dataloader)\n",
        "\n",
        "  for epoch in range(num_epochs):\n",
        "\n",
        "    running_loss = 0.0\n",
        "\n",
        "    for i, (images, labels) in enumerate(train_dataloader):\n",
        "      images = images.to(device)\n",
        "      labels = labels.to(device)\n",
        "\n",
        "      outputs = model(images)\n",
        "      loss = criterion(outputs, labels) # this returns a grad functions to get the actual loss loss.item() is used\n",
        "\n",
        "      optimizer.zero_grad()\n",
        "      loss.backward()\n",
        "      optimizer.step()\n",
        "\n",
        "      running_loss += loss.item()*images.size(0) # updating the running_loss\n",
        "\n",
        "      if (i+1)%400 ==0:\n",
        "        print('Epoch [{}/{}], Step [{}/{}], Loss: {:4f}'.format(epoch+1, num_epochs, i+1, total_step, loss.item()))\n",
        "\n",
        "    epoch_loss = running_loss/len(train_dataloader) # average loss per batch at each epoch\n",
        "    total_training_loss.append(epoch_loss)\n",
        "  return total_training_loss"
      ],
      "metadata": {
        "id": "ORlTrxlcImHA"
      },
      "execution_count": 53,
      "outputs": []
    },
    {
      "cell_type": "code",
      "source": [
        "total_training_loss = train(model, criterion, optimizer, num_epochs = 10)"
      ],
      "metadata": {
        "colab": {
          "base_uri": "https://localhost:8080/"
        },
        "id": "1C1HZPCRLtGg",
        "outputId": "d6f6ef1c-7c22-4300-f746-4498593a9da8"
      },
      "execution_count": 35,
      "outputs": [
        {
          "output_type": "stream",
          "name": "stdout",
          "text": [
            "Epoch [1/10], Step [400/938], Loss: 0.017316\n",
            "Epoch [1/10], Step [800/938], Loss: 0.019030\n",
            "Epoch [2/10], Step [400/938], Loss: 0.016919\n",
            "Epoch [2/10], Step [800/938], Loss: 0.036647\n",
            "Epoch [3/10], Step [400/938], Loss: 0.041569\n",
            "Epoch [3/10], Step [800/938], Loss: 0.013333\n",
            "Epoch [4/10], Step [400/938], Loss: 0.005225\n",
            "Epoch [4/10], Step [800/938], Loss: 0.004217\n",
            "Epoch [5/10], Step [400/938], Loss: 0.011155\n",
            "Epoch [5/10], Step [800/938], Loss: 0.001773\n",
            "Epoch [6/10], Step [400/938], Loss: 0.003998\n",
            "Epoch [6/10], Step [800/938], Loss: 0.011854\n",
            "Epoch [7/10], Step [400/938], Loss: 0.001124\n",
            "Epoch [7/10], Step [800/938], Loss: 0.006924\n",
            "Epoch [8/10], Step [400/938], Loss: 0.000267\n",
            "Epoch [8/10], Step [800/938], Loss: 0.003883\n",
            "Epoch [9/10], Step [400/938], Loss: 0.000860\n",
            "Epoch [9/10], Step [800/938], Loss: 0.006941\n",
            "Epoch [10/10], Step [400/938], Loss: 0.080106\n",
            "Epoch [10/10], Step [800/938], Loss: 0.000336\n"
          ]
        }
      ]
    },
    {
      "cell_type": "code",
      "source": [
        "total_training_loss"
      ],
      "metadata": {
        "colab": {
          "base_uri": "https://localhost:8080/"
        },
        "id": "SSlCRf03Lyjo",
        "outputId": "ac1b5b9c-e374-4d14-96c0-9c36c406d31b"
      },
      "execution_count": 36,
      "outputs": [
        {
          "output_type": "execute_result",
          "data": {
            "text/plain": [
              "[3.3034611850309727,\n",
              " 2.380640687909462,\n",
              " 2.1091065371353457,\n",
              " 1.7816763437901144,\n",
              " 1.4190326899569083,\n",
              " 1.312387179903019,\n",
              " 1.1439066695646127,\n",
              " 1.0305156224334775,\n",
              " 0.8355491227270024,\n",
              " 0.9521206656015658]"
            ]
          },
          "metadata": {},
          "execution_count": 36
        }
      ]
    },
    {
      "cell_type": "code",
      "source": [
        "epoch_count = range( 1, len(total_training_loss)+1)\n",
        "\n",
        "#visualise the loss history\n",
        "plt.plot(epoch_count, total_training_loss, \"r--\")\n",
        "plt.legend(['Training Loss', 'Test Loss'])\n",
        "plt.xlabel('Epoch')\n",
        "plt.ylabel('Loss')\n",
        "plt.show()"
      ],
      "metadata": {
        "colab": {
          "base_uri": "https://localhost:8080/",
          "height": 449
        },
        "id": "MJ0kpU2uMW6n",
        "outputId": "72c380ac-e082-4918-a6fc-cb2252f11bd0"
      },
      "execution_count": 37,
      "outputs": [
        {
          "output_type": "display_data",
          "data": {
            "text/plain": [
              "<Figure size 640x480 with 1 Axes>"
            ],
            "image/png": "[encoded data removed]"
          },
          "metadata": {}
        }
      ]
    },
    {
      "cell_type": "code",
      "source": [
        "summary(model, input_size = (1, 32, 32), device = str(device))"
      ],
      "metadata": {
        "colab": {
          "base_uri": "https://localhost:8080/"
        },
        "id": "auF9Ea6PNC20",
        "outputId": "e97b01eb-ad75-4ccd-fb4b-c3ca035d379e"
      },
      "execution_count": 57,
      "outputs": [
        {
          "output_type": "stream",
          "name": "stdout",
          "text": [
            "----------------------------------------------------------------\n",
            "        Layer (type)               Output Shape         Param #\n",
            "================================================================\n",
            "            Conv2d-1            [-1, 6, 28, 28]             156\n",
            "       BatchNorm2d-2            [-1, 6, 28, 28]              12\n",
            "              ReLU-3            [-1, 6, 28, 28]               0\n",
            "         MaxPool2d-4            [-1, 6, 14, 14]               0\n",
            "            Conv2d-5           [-1, 16, 10, 10]           2,416\n",
            "       BatchNorm2d-6           [-1, 16, 10, 10]              32\n",
            "              ReLU-7           [-1, 16, 10, 10]               0\n",
            "         MaxPool2d-8             [-1, 16, 5, 5]               0\n",
            "            Linear-9                  [-1, 120]          48,120\n",
            "             ReLU-10                  [-1, 120]               0\n",
            "           Linear-11                   [-1, 84]          10,164\n",
            "             ReLU-12                   [-1, 84]               0\n",
            "           Linear-13                   [-1, 10]             850\n",
            "================================================================\n",
            "Total params: 61,750\n",
            "Trainable params: 61,750\n",
            "Non-trainable params: 0\n",
            "----------------------------------------------------------------\n",
            "Input size (MB): 0.00\n",
            "Forward/backward pass size (MB): 0.16\n",
            "Params size (MB): 0.24\n",
            "Estimated Total Size (MB): 0.40\n",
            "----------------------------------------------------------------\n"
          ]
        }
      ]
    },
    {
      "cell_type": "code",
      "source": [],
      "metadata": {
        "id": "T3777HNzNbu5"
      },
      "execution_count": null,
      "outputs": []
    }
  ]
}